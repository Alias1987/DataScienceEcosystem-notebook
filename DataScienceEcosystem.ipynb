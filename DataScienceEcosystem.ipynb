{
 "cells": [
  {
   "cell_type": "markdown",
   "id": "aa01f7af-7b8d-4365-a17b-c6ff41d214c2",
   "metadata": {
    "tags": []
   },
   "source": [
    "[//]: # (Exercise 2: Create markdown cell with title of the notebook)\n",
    "# Data Science Tools and Ecosystem"
   ]
  },
  {
   "cell_type": "markdown",
   "id": "937a0760-8df6-4535-984a-624f1a24f426",
   "metadata": {},
   "source": [
    "[//]: # (Exercise 3 - Create a markdown cell for an introduction)\n",
    "### In this notebook, Data Science Tools and Ecosystem are summarized."
   ]
  },
  {
   "cell_type": "markdown",
   "id": "222612db-73a5-44df-a305-83205fc69807",
   "metadata": {},
   "source": [
    "[//]: # (Exercise 4 - Create a markdown cell to list data science languages)\n",
    "#### Some of the popular languages that Data Scientists use are:\n",
    "1. Python\n",
    "2. R\n",
    "3. Julia"
   ]
  },
  {
   "cell_type": "markdown",
   "id": "a890a701-cc40-4f7b-b666-d5217baa8d3a",
   "metadata": {},
   "source": [
    "[//]: # (Exercise 5 - Create a markdown cell to list data science libraries)\n",
    "#### Some of the commonly used libraries used by Data Scientists include:\n",
    "1. Matploitlib, Python\n",
    "2. ggplot2, R.\n",
    "3. GadFly.jl, Julia."
   ]
  },
  {
   "cell_type": "markdown",
   "id": "6a67189a-c334-4983-bc23-f15003855800",
   "metadata": {},
   "source": [
    "[//]: # (Exercise 6 - Create a markdown cell with a table of Data Science tools)\n",
    "\n",
    "| Data Science Tools |\n",
    "| ---------------------- |\n",
    "| Jupyter Notebook   |\n",
    "| JupyterLite |\n",
    "| RStudio |"
   ]
  },
  {
   "cell_type": "markdown",
   "id": "c6ca700e-dad8-42e1-b8d5-83f6a844470d",
   "metadata": {},
   "source": [
    "[//]: # (Exercise 7 - Create a markdown cell introducing arithmetic expression examples)\n",
    "### Below are a few examples of evaluating arithmetic expressions in Python.\n"
   ]
  },
  {
   "cell_type": "code",
   "execution_count": 3,
   "id": "8091821e-e831-42ec-b1a5-e04714c0356c",
   "metadata": {
    "tags": []
   },
   "outputs": [
    {
     "data": {
      "text/plain": [
       "17"
      ]
     },
     "execution_count": 3,
     "metadata": {},
     "output_type": "execute_result"
    }
   ],
   "source": [
    "# Exercise 8 - Create a code cell to multiply and add numbers\n",
    "# This a simple arithmetic expression to mutiply then add integers:\n",
    "(3*4)+5"
   ]
  },
  {
   "cell_type": "code",
   "execution_count": 13,
   "id": "67719e1f-57c8-49cc-a39c-b997207bc20c",
   "metadata": {
    "tags": []
   },
   "outputs": [
    {
     "name": "stdout",
     "output_type": "stream",
     "text": [
      "3 hours\n"
     ]
    }
   ],
   "source": [
    "# Exercise 9 - Create a code cell to convert minutes to hours\n",
    "# This will convert 200 minutes to hours by diving by 60\n",
    "hours, minutes = divmod(200, 60)\n",
    "print(hours,\"hours\")"
   ]
  },
  {
   "cell_type": "markdown",
   "id": "a9afc481-221d-4a0e-a798-432eaab5682e",
   "metadata": {},
   "source": [
    "[//]: # (Exercise 10 - Insert a markdown cell to list Objectives)\n",
    "**Objectives:**\n",
    "- List popular languages for Data Science\n",
    "- List popular libraries for Data Science.\n",
    "- List popular development environments (IDEs).\n",
    "- Develop your Markdown skills.\n",
    "\n",
    "\n"
   ]
  },
  {
   "cell_type": "markdown",
   "id": "4ab03278-b473-457c-b43f-280abf8bf896",
   "metadata": {},
   "source": [
    "[//]: # (Exercise 11 - Create a markdown cell to indicate the Author's name)\n",
    "\n",
    "## Author\n",
    "Carlos Rodriguez "
   ]
  }
 ],
 "metadata": {
  "kernelspec": {
   "display_name": "Python",
   "language": "python",
   "name": "conda-env-python-py"
  },
  "language_info": {
   "codemirror_mode": {
    "name": "ipython",
    "version": 3
   },
   "file_extension": ".py",
   "mimetype": "text/x-python",
   "name": "python",
   "nbconvert_exporter": "python",
   "pygments_lexer": "ipython3",
   "version": "3.7.12"
  }
 },
 "nbformat": 4,
 "nbformat_minor": 5
}
